{
 "cells": [
  {
   "cell_type": "code",
   "execution_count": 48,
   "metadata": {},
   "outputs": [],
   "source": [
    "import os\n",
    "import pickle\n",
    "import gym\n",
    "import numpy as np\n",
    "import matplotlib.pyplot as plt\n"
   ]
  },
  {
   "cell_type": "code",
   "execution_count": 55,
   "metadata": {},
   "outputs": [],
   "source": [
    "map_name=1678368152 # int\n",
    "method='ql' # str [ql,sa,mc]\n",
    "run=0      # int\n",
    "map_path=f\"data/{map_name}/\"\n",
    "path = f\"data/{map_name}/{method}%04d/\" %run"
   ]
  },
  {
   "cell_type": "code",
   "execution_count": 56,
   "metadata": {},
   "outputs": [],
   "source": [
    "with open(str(map_path)+'/map_desc.pickle', 'rb') as f:\n",
    "    map_desc = pickle.load(f)\n"
   ]
  },
  {
   "cell_type": "code",
   "execution_count": 57,
   "metadata": {},
   "outputs": [],
   "source": [
    "env = gym.make('FrozenLake-v1',\n",
    "            is_slippery=False,\n",
    "            desc=map_desc,\n",
    "            render_mode=\"human\" )\n"
   ]
  },
  {
   "cell_type": "code",
   "execution_count": 58,
   "metadata": {},
   "outputs": [],
   "source": [
    "qtable=np.load(\n",
    "    path+'qtable_final.npy'\n",
    ")"
   ]
  },
  {
   "cell_type": "code",
   "execution_count": 59,
   "metadata": {},
   "outputs": [
    {
     "name": "stdout",
     "output_type": "stream",
     "text": [
      "[[ 0.          0.2097152   0.32768     0.        ]\n",
      " [ 0.262144   -1.          0.4096      0.        ]\n",
      " [ 0.32768     0.512      -1.          0.        ]\n",
      " [ 0.          0.          0.          0.        ]\n",
      " [ 0.          0.16777216  0.          0.262144  ]\n",
      " [ 0.          0.          0.          0.        ]\n",
      " [-1.          0.64        0.64        0.4096    ]\n",
      " [ 0.512       0.8         0.64       -1.        ]\n",
      " [ 0.          0.13421773  0.          0.2097152 ]\n",
      " [ 0.16777216  0.64        0.64       -1.        ]\n",
      " [ 0.512       0.8         0.8         0.512     ]\n",
      " [ 0.64        1.          0.8         0.64      ]\n",
      " [ 0.          0.          0.          0.16777216]\n",
      " [ 0.13421773  0.          0.8         0.512     ]\n",
      " [ 0.64        0.          1.          0.64      ]\n",
      " [ 0.          0.          0.          0.        ]]\n"
     ]
    }
   ],
   "source": [
    "print(qtable)"
   ]
  },
  {
   "cell_type": "code",
   "execution_count": 60,
   "metadata": {},
   "outputs": [
    {
     "name": "stderr",
     "output_type": "stream",
     "text": [
      "c:\\Users\\a\\.conda\\envs\\fl_39\\lib\\site-packages\\gym\\utils\\passive_env_checker.py:233: DeprecationWarning: `np.bool8` is a deprecated alias for `np.bool_`.  (Deprecated NumPy 1.24)\n",
      "  if not isinstance(terminated, (bool, np.bool8)):\n"
     ]
    }
   ],
   "source": [
    "statestate = env.reset()\n",
    "state = statestate[0]\n",
    "total_rewards = 0\n",
    "\n",
    "env.render()\n",
    "done = False\n",
    "\n",
    "\n",
    "action_list = possible_actions(state) \n",
    "row = list(qtable[state])\n",
    "goodq = []\n",
    "for i in action_list:\n",
    "    goodq.append(row[i])\n",
    "\n",
    "max_value = np.max(goodq)\n",
    "max_indices = np.where(row == max_value)[0]\n",
    "action = max_indices[0]\n",
    "\n",
    "# action=np.argmax(qtable[state])\n",
    "\n",
    "input()\n",
    "while not done:\n",
    "\n",
    "    new_state, reward, done, truncated, info = env.step(action)\n",
    "\n",
    "    state = new_state\n",
    "    action_list = possible_actions(state) \n",
    "    row = list(qtable[state])\n",
    "    goodq = []\n",
    "    for i in action_list:\n",
    "        goodq.append(row[i])\n",
    "\n",
    "    max_value = np.max(goodq)\n",
    "    max_indices = np.where(row == max_value)[0]\n",
    "    action = max_indices[0]    \n",
    "    input()\n",
    "\n",
    "env.close()\n"
   ]
  },
  {
   "cell_type": "code",
   "execution_count": 42,
   "metadata": {},
   "outputs": [],
   "source": [
    "test=9"
   ]
  },
  {
   "cell_type": "code",
   "execution_count": 43,
   "metadata": {},
   "outputs": [
    {
     "data": {
      "text/plain": [
       "'0009'"
      ]
     },
     "execution_count": 43,
     "metadata": {},
     "output_type": "execute_result"
    }
   ],
   "source": [
    "\"%04d\" % test"
   ]
  },
  {
   "cell_type": "code",
   "execution_count": 44,
   "metadata": {},
   "outputs": [],
   "source": [
    "def plot_Q_table(Q, n):\n",
    "    assert Q.shape == (n**2, 4), \"Invalid Q table shape\"\n",
    "    \n",
    "    fig, ax = plt.subplots(figsize=(n, n))\n",
    "    \n",
    "    # Create a grid of n by n boxes, each bisected diagonally into two triangles\n",
    "    for i in range(n):\n",
    "        for j in range(n):\n",
    "            x = [i, i+1, i+1, i]\n",
    "            y = [j, j, j+1, j+1]\n",
    "            ax.fill_between(x, y, where=[0, 1, 0, 1], facecolor='white', edgecolor='black')\n",
    "            ax.fill_between(x, y, where=[0, 0, 1, 0], facecolor='white', edgecolor='black')\n",
    "            \n",
    "            # Get the Q values for the state-action pair in this box\n",
    "            state_idx = i*n + j\n",
    "            q_vals = Q[state_idx]\n",
    "            \n",
    "            # Calculate the color for each triangle based on the Q value\n",
    "            c1 = plt.cm.Reds(q_vals[0]/np.max(Q))\n",
    "            c2 = plt.cm.Blues(q_vals[2]/np.max(Q))\n",
    "            c3 = plt.cm.Greens(q_vals[1]/np.max(Q))\n",
    "            c4 = plt.cm.Purples(q_vals[3]/np.max(Q))\n",
    "            \n",
    "            # Fill each triangle with its corresponding color\n",
    "            ax.fill_between(x[:2], y[:2], where=[0, 1], facecolor=c1, edgecolor='black')\n",
    "            ax.fill_between(x[1:3], y[1:3], where=[1, 0], facecolor=c2, edgecolor='black')\n",
    "            ax.fill_between(x[2:], y[2:], where=[0, 1], facecolor=c3, edgecolor='black')\n",
    "            ax.fill_between(x[::3], y[::3], where=[1, 0], facecolor=c4, edgecolor='black')\n",
    "    \n",
    "    ax.set_xlim([0, n])\n",
    "    ax.set_ylim([0, n])\n",
    "    ax.set_aspect('equal')\n",
    "    ax.axis('off')\n",
    "    plt.show()\n"
   ]
  },
  {
   "cell_type": "code",
   "execution_count": 45,
   "metadata": {},
   "outputs": [
    {
     "data": {
      "image/png": "[encoded data removed]",
      "text/plain": [
       "<Figure size 400x400 with 1 Axes>"
      ]
     },
     "metadata": {},
     "output_type": "display_data"
    }
   ],
   "source": [
    "plot_Q_table(qtable,4)"
   ]
  },
  {
   "cell_type": "code",
   "execution_count": null,
   "metadata": {},
   "outputs": [],
   "source": []
  }
 ],
 "metadata": {
  "kernelspec": {
   "display_name": "fl_39",
   "language": "python",
   "name": "python3"
  },
  "language_info": {
   "codemirror_mode": {
    "name": "ipython",
    "version": 3
   },
   "file_extension": ".py",
   "mimetype": "text/x-python",
   "name": "python",
   "nbconvert_exporter": "python",
   "pygments_lexer": "ipython3",
   "version": "3.9.16"
  },
  "orig_nbformat": 4,
  "vscode": {
   "interpreter": {
    "hash": "b605eee528ef949c3b10f8be02973d254846ff413bb1828c26c1db1df2d88365"
   }
  }
 },
 "nbformat": 4,
 "nbformat_minor": 2
}
