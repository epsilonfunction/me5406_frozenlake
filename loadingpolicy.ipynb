{
 "cells": [
  {
   "cell_type": "code",
   "execution_count": 1,
   "metadata": {},
   "outputs": [],
   "source": [
    "import gym\n",
    "import numpy as np\n",
    "import os"
   ]
  },
  {
   "cell_type": "code",
   "execution_count": 2,
   "metadata": {},
   "outputs": [],
   "source": [
    "env = gym.make('FrozenLake-v1',\n",
    "            is_slippery=False,\n",
    "            render_mode=\"human\" )\n"
   ]
  },
  {
   "cell_type": "code",
   "execution_count": 3,
   "metadata": {},
   "outputs": [
    {
     "data": {
      "text/plain": [
       "'c:\\\\Users\\\\a\\\\Desktop\\\\NUS\\\\Academics\\\\Y4S2\\\\ME5406\\\\frozen_lake'"
      ]
     },
     "execution_count": 3,
     "metadata": {},
     "output_type": "execute_result"
    }
   ],
   "source": [
    "os.getcwd()"
   ]
  },
  {
   "cell_type": "code",
   "execution_count": 4,
   "metadata": {},
   "outputs": [
    {
     "ename": "FileNotFoundError",
     "evalue": "[Errno 2] No such file or directory: 'data/default/ql0001qtable_final.npy'",
     "output_type": "error",
     "traceback": [
      "\u001b[1;31m---------------------------------------------------------------------------\u001b[0m",
      "\u001b[1;31mFileNotFoundError\u001b[0m                         Traceback (most recent call last)",
      "Cell \u001b[1;32mIn[4], line 1\u001b[0m\n\u001b[1;32m----> 1\u001b[0m qtable \u001b[39m=\u001b[39m np\u001b[39m.\u001b[39;49mload(\n\u001b[0;32m      2\u001b[0m     \u001b[39m\"\u001b[39;49m\u001b[39mdata/default/ql0001qtable_final.npy\u001b[39;49m\u001b[39m\"\u001b[39;49m\n\u001b[0;32m      3\u001b[0m )\n\u001b[0;32m      4\u001b[0m action_size \u001b[39m=\u001b[39m env\u001b[39m.\u001b[39maction_space\u001b[39m.\u001b[39mn\n\u001b[0;32m      5\u001b[0m state_size \u001b[39m=\u001b[39m env\u001b[39m.\u001b[39mobservation_space\u001b[39m.\u001b[39mn\n",
      "File \u001b[1;32mc:\\Users\\a\\.conda\\envs\\fl_39\\lib\\site-packages\\numpy\\lib\\npyio.py:405\u001b[0m, in \u001b[0;36mload\u001b[1;34m(file, mmap_mode, allow_pickle, fix_imports, encoding, max_header_size)\u001b[0m\n\u001b[0;32m    403\u001b[0m     own_fid \u001b[39m=\u001b[39m \u001b[39mFalse\u001b[39;00m\n\u001b[0;32m    404\u001b[0m \u001b[39melse\u001b[39;00m:\n\u001b[1;32m--> 405\u001b[0m     fid \u001b[39m=\u001b[39m stack\u001b[39m.\u001b[39menter_context(\u001b[39mopen\u001b[39;49m(os_fspath(file), \u001b[39m\"\u001b[39;49m\u001b[39mrb\u001b[39;49m\u001b[39m\"\u001b[39;49m))\n\u001b[0;32m    406\u001b[0m     own_fid \u001b[39m=\u001b[39m \u001b[39mTrue\u001b[39;00m\n\u001b[0;32m    408\u001b[0m \u001b[39m# Code to distinguish from NumPy binary files and pickles.\u001b[39;00m\n",
      "\u001b[1;31mFileNotFoundError\u001b[0m: [Errno 2] No such file or directory: 'data/default/ql0001qtable_final.npy'"
     ]
    }
   ],
   "source": [
    "qtable = np.load(\n",
    "    \"data/default/ql0001/qtable_final.npy\"\n",
    ")\n",
    "action_size = env.action_space.n\n",
    "state_size = env.observation_space.n\n",
    "\n",
    "SIZE = 4\n",
    "NOUP = [i for i in range(SIZE)]\n",
    "NODOWN = [state_size-1-i for i in range(SIZE)]\n",
    "NOLEFT = [i*SIZE for i in range(SIZE)]\n",
    "NORIGHT = [i*SIZE + SIZE for i in range(SIZE)]\n",
    "\n",
    "\n",
    "def possible_actions(state):\n",
    "    action_list = [0,1,2,3]\n",
    "    if state in NOLEFT:\n",
    "        action_list.remove(0)\n",
    "    if state in NODOWN:\n",
    "        action_list.remove(1)\n",
    "    if state in NORIGHT:\n",
    "        action_list.remove(2)\n",
    "    if state in NOUP:\n",
    "        action_list.remove(3)\n",
    "    return action_list\n",
    "\n"
   ]
  },
  {
   "cell_type": "code",
   "execution_count": null,
   "metadata": {},
   "outputs": [
    {
     "name": "stdout",
     "output_type": "stream",
     "text": [
      "[[ 0.          0.10321937  0.47744349  0.        ]\n",
      " [-0.362025   -1.          0.69654485  0.        ]\n",
      " [-0.08430015  0.7579927  -0.01734135  0.        ]\n",
      " [ 0.16806126 -1.         -0.53656799  0.        ]\n",
      " [ 0.         -0.28030741  0.          0.12391431]\n",
      " [ 0.          0.          0.          0.        ]\n",
      " [-1.          0.85706634 -1.          0.30848517]\n",
      " [ 0.          0.          0.          0.        ]\n",
      " [ 0.         -1.          0.         -0.13961527]\n",
      " [-0.4084912  -0.11669732  0.75094908 -1.        ]\n",
      " [ 0.40171613  0.9422577  -1.          0.35914839]\n",
      " [ 0.          0.          0.          0.        ]\n",
      " [ 0.          0.          0.          0.        ]\n",
      " [-1.          0.          0.88651576  0.12211553]\n",
      " [ 0.69078431  0.          1.          0.70095818]\n",
      " [ 0.          0.          0.          0.        ]]\n"
     ]
    }
   ],
   "source": [
    "print(qtable)"
   ]
  },
  {
   "cell_type": "code",
   "execution_count": null,
   "metadata": {},
   "outputs": [
    {
     "name": "stderr",
     "output_type": "stream",
     "text": [
      "c:\\Users\\a\\.conda\\envs\\fl_39\\lib\\site-packages\\gym\\utils\\passive_env_checker.py:233: DeprecationWarning: `np.bool8` is a deprecated alias for `np.bool_`.  (Deprecated NumPy 1.24)\n",
      "  if not isinstance(terminated, (bool, np.bool8)):\n"
     ]
    },
    {
     "data": {
      "text/plain": [
       "<bound method Wrapper.close of <TimeLimit<OrderEnforcing<PassiveEnvChecker<FrozenLakeEnv<FrozenLake-v1>>>>>>"
      ]
     },
     "execution_count": 10,
     "metadata": {},
     "output_type": "execute_result"
    }
   ],
   "source": [
    "statestate = env.reset()\n",
    "state = statestate[0]\n",
    "total_rewards = 0\n",
    "\n",
    "env.render()\n",
    "done = False\n",
    "\n",
    "\n",
    "action_list = possible_actions(state) \n",
    "row = list(qtable[state])\n",
    "goodq = []\n",
    "for i in action_list:\n",
    "    goodq.append(row[i])\n",
    "\n",
    "max_value = np.max(goodq)\n",
    "max_indices = np.where(row == max_value)[0]\n",
    "action = max_indices[0]\n",
    "\n",
    "# action=np.argmax(qtable[state])\n",
    "\n",
    "input()\n",
    "while not done:\n",
    "\n",
    "    new_state, reward, done, truncated, info = env.step(action)\n",
    "\n",
    "    state = new_state\n",
    "    action_list = possible_actions(state) \n",
    "    row = list(qtable[state])\n",
    "    goodq = []\n",
    "    for i in action_list:\n",
    "        goodq.append(row[i])\n",
    "\n",
    "    max_value = np.max(goodq)\n",
    "    max_indices = np.where(row == max_value)[0]\n",
    "    action = max_indices[0]    \n",
    "    input()\n",
    "\n",
    "env.close()\n"
   ]
  },
  {
   "cell_type": "code",
   "execution_count": null,
   "metadata": {},
   "outputs": [],
   "source": [
    "test=9"
   ]
  },
  {
   "cell_type": "code",
   "execution_count": null,
   "metadata": {},
   "outputs": [
    {
     "data": {
      "text/plain": [
       "'0009'"
      ]
     },
     "execution_count": 12,
     "metadata": {},
     "output_type": "execute_result"
    }
   ],
   "source": [
    "\"%04d\" % test"
   ]
  }
 ],
 "metadata": {
  "kernelspec": {
   "display_name": "fl_39",
   "language": "python",
   "name": "python3"
  },
  "language_info": {
   "codemirror_mode": {
    "name": "ipython",
    "version": 3
   },
   "file_extension": ".py",
   "mimetype": "text/x-python",
   "name": "python",
   "nbconvert_exporter": "python",
   "pygments_lexer": "ipython3",
   "version": "3.9.16"
  },
  "orig_nbformat": 4,
  "vscode": {
   "interpreter": {
    "hash": "b605eee528ef949c3b10f8be02973d254846ff413bb1828c26c1db1df2d88365"
   }
  }
 },
 "nbformat": 4,
 "nbformat_minor": 2
}
