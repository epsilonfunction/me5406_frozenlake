{
 "cells": [
  {
   "cell_type": "code",
   "execution_count": null,
   "metadata": {},
   "outputs": [],
   "source": [
    "import numpy as np\n",
    "import pandas as pd\n",
    "import matplotlib.pyplot as plt\n",
    "import seaborn as sns\n",
    "import os\n",
    "import time"
   ]
  },
  {
   "cell_type": "code",
   "execution_count": null,
   "metadata": {},
   "outputs": [],
   "source": [
    "# sam = np.array([[0.5,0.25,-.05,0],\n",
    "#                [0.2,0.75,0.2,-0.7]])\n",
    "# ll = list(sam[1])\n",
    "# okays = [0,2]\n",
    "# goodq = []\n",
    "# for i in okays:\n",
    "#     goodq.append(ll[i])\n",
    "# goodq\n",
    "# mx = np.max(goodq)\n",
    "# max_indices = np.where(ll == mx)[0]\n",
    "# max_indices\n",
    "# len(max_indices)\n",
    "# # max_indices[0]"
   ]
  },
  {
   "cell_type": "code",
   "execution_count": null,
   "metadata": {},
   "outputs": [],
   "source": [
    "# path = \"data/MonteCarlo/1678178244/\"\n",
    "path = \"data/default/ql0001\"\n",
    "rpd = pd.DataFrame(np.load(path+'/results_raw.npy'),columns=[\"steps\",\"reward\"])\n"
   ]
  },
  {
   "cell_type": "code",
   "execution_count": null,
   "metadata": {},
   "outputs": [],
   "source": []
  },
  {
   "cell_type": "code",
   "execution_count": null,
   "metadata": {},
   "outputs": [],
   "source": [
    "ndat = np.load(path+'/ntable_final.npy')\n",
    "qdat = np.load(path+'/qtable_final.npy')"
   ]
  },
  {
   "cell_type": "code",
   "execution_count": null,
   "metadata": {},
   "outputs": [],
   "source": [
    "ntable = pd.DataFrame(ndat)\n",
    "ntable"
   ]
  },
  {
   "cell_type": "code",
   "execution_count": null,
   "metadata": {},
   "outputs": [],
   "source": [
    "qtable = pd.DataFrame(qdat)\n",
    "qtable"
   ]
  },
  {
   "cell_type": "code",
   "execution_count": null,
   "metadata": {},
   "outputs": [],
   "source": [
    "rpd.head()"
   ]
  },
  {
   "cell_type": "code",
   "execution_count": null,
   "metadata": {},
   "outputs": [],
   "source": [
    "rpd[\"cumu_win\"] = (rpd['reward'] == 1.0).cumsum()\n",
    "rpd[\"cumu_loss\"] = (rpd['reward'] == -1.0).cumsum()\n",
    "rpd[\"log_steps\"] = np.log(rpd['steps'])\n",
    "f1 = lambda s: -s\n",
    "rpd[\"cumu_loss\"].apply(f1)\n",
    "\n",
    "print(rpd)"
   ]
  },
  {
   "cell_type": "code",
   "execution_count": null,
   "metadata": {},
   "outputs": [],
   "source": [
    "plt.title(f\"{path} Visualisation\")\n",
    "plt.ylabel(\"Count\")\n",
    "plt.xlabel(\"Episode\")\n",
    "plt.plot(rpd[\"cumu_win\"],label=\"Cumulative Wins\")\n",
    "plt.plot(rpd[\"cumu_loss\"],label=\"Cumulative Loss\")\n",
    "plt.legend()\n"
   ]
  },
  {
   "cell_type": "code",
   "execution_count": null,
   "metadata": {},
   "outputs": [],
   "source": [
    "plt.title(\"Steps\")\n",
    "plt.ylabel(\"Log(steps)\")\n",
    "plt.xlabel(\"Episode\")\n",
    "plt.plot(rpd[\"steps\"],label=\"Steps\")\n"
   ]
  },
  {
   "cell_type": "code",
   "execution_count": null,
   "metadata": {},
   "outputs": [],
   "source": []
  },
  {
   "cell_type": "code",
   "execution_count": null,
   "metadata": {},
   "outputs": [],
   "source": [
    "\n",
    "# Create a sample DataFrame with episode steps and rewards\n",
    "df = pd.DataFrame({'episode': [1, 1, 1, 2, 2, 2, 3, 3, 3],\n",
    "                   'step': [1, 2, 3, 1, 2, 3, 1, 2, 3],\n",
    "                   'reward': [0, 1, 1, 0, 1, 1, 0, 0, 1]})\n",
    "\n",
    "# Calculate total reward per episode\n",
    "total_rewards = df.groupby('episode')['reward'].sum()\n",
    "\n",
    "# Calculate success rate per episode\n",
    "success_rate = df.groupby('episode')['reward'].mean()\n",
    "\n",
    "# Calculate moving average of success rate over the last n episodes\n",
    "n = 2 # Choose window size\n",
    "success_ma = success_rate.rolling(window=n).mean()\n",
    "\n",
    "# Calculate total successes up to each episode\n",
    "cumulative_successes = np.cumsum(total_rewards)\n",
    "\n",
    "# Calculate moving average of total successes over the last n episodes\n",
    "cumulative_success_ma = pd.Series(cumulative_successes).rolling(window=n).mean()\n",
    "\n",
    "# Print results\n",
    "print('Total rewards per episode:')\n",
    "print(total_rewards)\n",
    "print('Success rate per episode:')\n",
    "print(success_rate)\n",
    "print('Moving average of success rate over the last', n, 'episodes:')\n",
    "print(success_ma)\n",
    "print('Cumulative successes up to each episode:')\n",
    "print(cumulative_successes)\n",
    "print('Moving average of cumulative successes over the last', n, 'episodes:')\n",
    "print(cumulative_success_ma)\n"
   ]
  },
  {
   "cell_type": "code",
   "execution_count": null,
   "metadata": {},
   "outputs": [],
   "source": []
  }
 ],
 "metadata": {
  "kernelspec": {
   "display_name": "fl_39",
   "language": "python",
   "name": "python3"
  },
  "language_info": {
   "codemirror_mode": {
    "name": "ipython",
    "version": 3
   },
   "file_extension": ".py",
   "mimetype": "text/x-python",
   "name": "python",
   "nbconvert_exporter": "python",
   "pygments_lexer": "ipython3",
   "version": "3.9.16"
  },
  "orig_nbformat": 4,
  "vscode": {
   "interpreter": {
    "hash": "b605eee528ef949c3b10f8be02973d254846ff413bb1828c26c1db1df2d88365"
   }
  }
 },
 "nbformat": 4,
 "nbformat_minor": 2
}
